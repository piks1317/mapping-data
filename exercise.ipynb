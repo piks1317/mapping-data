{
 "cells": [
  {
   "attachments": {},
   "cell_type": "markdown",
   "metadata": {},
   "source": [
    "# Practice your skills loading data from a CSV file\n",
    "In this exercise, you will load a CSV file and you'll perform some operations on it to extract data. If you know how to do this with the Pandas library, you can use that. If not, you can use the csv library with the ready-to-use example this notebook provides."
   ]
  },
  {
   "cell_type": "code",
   "execution_count": 2,
   "metadata": {},
   "outputs": [],
   "source": [
    "from csv import DictReader\n",
    "import pandas as pd\n",
    "# Open the CSV file and read it into a list of dictionaries and ignore unicode errors\n",
    "\n",
    "with open('sample_data/wine-ratings-small.csv', encoding='utf-8', errors='ignore') as f:\n",
    "    reader = DictReader(f)\n",
    "    wines = list(reader)\n",
    "\n",
    "# The wines variable is now a list of dictionaries, one for each row in the CSV file. This is the sample output of a single entry:\n",
    "# {'': '1',\n",
    "#  'name': 'Laurenz V Charming Gruner Veltliner 2014',\n",
    "#  'grape': '',\n",
    "#  'region': 'Kamptal, Austria',\n",
    "#  'variety': 'White Wine',\n",
    "#  'rating': '90.0',\n",
    "#  'notes': ''}\n",
    "\n"
   ]
  },
  {
   "attachments": {},
   "cell_type": "markdown",
   "metadata": {},
   "source": [
    "Looping over the list of dictionaries can be tricky with plain Python. Specialized libraries like Pandas make this much easier but the downside is that you need to learn a new library. The following code is a bit more verbose but it's a good exercise to learn how to work with dictionaries in Python.\n"
   ]
  },
  {
   "cell_type": "code",
   "execution_count": 3,
   "metadata": {},
   "outputs": [
    {
     "data": {
      "text/plain": [
       "[{'': '24',\n",
       "  'name': 'Lava Vine Winery Napa Valley Cabernet Sauvignon 2014',\n",
       "  'grape': '',\n",
       "  'region': 'Napa Valley, California',\n",
       "  'variety': 'Red Wine',\n",
       "  'rating': '91.0',\n",
       "  'notes': 'A wonderful representation of how amazing the 2014 vintage could be and how to balance Napa Valley’s Intensity. A ripe cherry and cassis entry with dusted cocoa and a touch of graham cracker entice. The silky rich entry is so balanced there seems to be no separation from mid-palate through the lengthy finish with multitudes of fruit and spice to accompany. This Cabernet Sauvignon is fully integrated, super complex and will age beautifully.'},\n",
       " {'': '25',\n",
       "  'name': 'Lava Vine Winery Napa Valley Reserve Cabernet Sauvignon 2012',\n",
       "  'grape': '',\n",
       "  'region': 'Napa Valley, California',\n",
       "  'variety': 'Red Wine',\n",
       "  'rating': '92.0',\n",
       "  'notes': 'Black berries and hints of strawberry invite with muddled cherry cola spices. Deep earthy tones on a silk entry proceed to a rich, full mid-palate. Expressive tannins make for a beautiful finish.'},\n",
       " {'': '26',\n",
       "  'name': 'Lava Vine Winery Napa Valley Reserve Cabernet Sauvignon 2013',\n",
       "  'grape': '',\n",
       "  'region': 'Napa Valley, California',\n",
       "  'variety': 'Red Wine',\n",
       "  'rating': '92.0',\n",
       "  'notes': 'A slight minty nose with dark chocolate and fresh blueberry captivate the senses. Notes of a baking spice dance on the pallet before giving way to rich, dark, and earthy finish. This extremely balanced gem will continue to show plenty of structure and integrity for years to come. Enjoy!'},\n",
       " {'': '288',\n",
       "  'name': 'Leaping Lizard Cabernet Sauvignon 2007',\n",
       "  'grape': '',\n",
       "  'region': 'Napa Valley, California',\n",
       "  'variety': 'Red Wine',\n",
       "  'rating': '90.0',\n",
       "  'notes': 'Our Cabernet Sauvignon is a full-bodied, fruit-forward wine that shows great structure with balanced acidity. Cassis, plum and crushed berry aromas are layered with a slight perfume/floral note and a hint of spicy oak. Red fruit flavors are found on the mid-palate through to the lingering finish. This wine is aged for\\xa018 months \\xa0in a mix of old and new oak barrels giving the wine a velvety finish with fine-grain tannins and a soft mouthfeel.'},\n",
       " {'': '685',\n",
       "  'name': 'Levendi Stagecoach Cabernet Sauvignon 2008',\n",
       "  'grape': '',\n",
       "  'region': 'Napa Valley, California',\n",
       "  'variety': 'Red Wine',\n",
       "  'rating': '94.0',\n",
       "  'notes': 'From the Stagecoach Vineyard high on the eastern volcanic ridge above Napa, comes this rich and decadent, limited production Cabernet Sauvignon. The vivid red soils and rocky slopes come together to produce a wine with an aroma of sweet blackberry and cassis fruit that carries over into a superbly balanced and polished palate. '}]"
      ]
     },
     "execution_count": 3,
     "metadata": {},
     "output_type": "execute_result"
    }
   ],
   "source": [
    "# This example creates a new list that only has wines from Napa Valley. The new list is called napa_wines:\n",
    "napa_wines = []\n",
    "for wine in wines:\n",
    "    if 'Napa' in wine['region']:\n",
    "        napa_wines.append(wine)\n",
    "\n",
    "napa_wines[:5]"
   ]
  },
  {
   "attachments": {},
   "cell_type": "markdown",
   "metadata": {},
   "source": [
    "**NOTE**: If you are trying to use ratings, remember that you will need to convert the ratings to integers for numerical comparisons."
   ]
  },
  {
   "attachments": {},
   "cell_type": "markdown",
   "metadata": {},
   "source": [
    "## Using Pandas\n",
    "Alternatively, you can use the Pandas library to load the CSV file and then extract the data. You'll need to install the Pandas library first. You can do this with the following command:\n",
    "\n",
    "```bash\n",
    "pip install pandas\n",
    "```\n",
    "\n",
    "Then, you can use the following code to load the CSV file and extract the data:\n",
    "\n",
    "```python\n",
    "import pandas as pd\n",
    "\n",
    "df = pd.read_csv('sample_data/wine-ratings-small.csv')\n",
    "df.head()\n",
    "```"
   ]
  },
  {
   "cell_type": "code",
   "execution_count": 6,
   "metadata": {},
   "outputs": [
    {
     "data": {
      "text/html": [
       "<div>\n",
       "<style scoped>\n",
       "    .dataframe tbody tr th:only-of-type {\n",
       "        vertical-align: middle;\n",
       "    }\n",
       "\n",
       "    .dataframe tbody tr th {\n",
       "        vertical-align: top;\n",
       "    }\n",
       "\n",
       "    .dataframe thead th {\n",
       "        text-align: right;\n",
       "    }\n",
       "</style>\n",
       "<table border=\"1\" class=\"dataframe\">\n",
       "  <thead>\n",
       "    <tr style=\"text-align: right;\">\n",
       "      <th></th>\n",
       "      <th>name</th>\n",
       "      <th>grape</th>\n",
       "      <th>region</th>\n",
       "      <th>variety</th>\n",
       "      <th>rating</th>\n",
       "      <th>notes</th>\n",
       "    </tr>\n",
       "  </thead>\n",
       "  <tbody>\n",
       "    <tr>\n",
       "      <th>0</th>\n",
       "      <td>Laurenz V Charming Gruner Veltliner 2013</td>\n",
       "      <td>NaN</td>\n",
       "      <td>Kamptal, Austria</td>\n",
       "      <td>White Wine</td>\n",
       "      <td>90.0</td>\n",
       "      <td>Aromas of ripe apples and a typical Veltliner ...</td>\n",
       "    </tr>\n",
       "    <tr>\n",
       "      <th>1</th>\n",
       "      <td>Laurenz V Charming Gruner Veltliner 2014</td>\n",
       "      <td>NaN</td>\n",
       "      <td>Kamptal, Austria</td>\n",
       "      <td>White Wine</td>\n",
       "      <td>90.0</td>\n",
       "      <td>Aromas of ripe apples and a typical Veltliner ...</td>\n",
       "    </tr>\n",
       "    <tr>\n",
       "      <th>2</th>\n",
       "      <td>Laurenz V Singing Gruner Veltliner 2007</td>\n",
       "      <td>NaN</td>\n",
       "      <td>Austria</td>\n",
       "      <td>White Wine</td>\n",
       "      <td>90.0</td>\n",
       "      <td>A very attractive fruit bouquet yields apple, ...</td>\n",
       "    </tr>\n",
       "    <tr>\n",
       "      <th>3</th>\n",
       "      <td>Laurenz V Singing Gruner Veltliner 2010</td>\n",
       "      <td>NaN</td>\n",
       "      <td>Austria</td>\n",
       "      <td>White Wine</td>\n",
       "      <td>88.0</td>\n",
       "      <td>A very attractive fruit bouquet yields apple, ...</td>\n",
       "    </tr>\n",
       "    <tr>\n",
       "      <th>4</th>\n",
       "      <td>Laurenz V Singing Gruner Veltliner 2011</td>\n",
       "      <td>NaN</td>\n",
       "      <td>Austria</td>\n",
       "      <td>White Wine</td>\n",
       "      <td>88.0</td>\n",
       "      <td>A very attractive fruit bouquet yields apple, ...</td>\n",
       "    </tr>\n",
       "  </tbody>\n",
       "</table>\n",
       "</div>"
      ],
      "text/plain": [
       "                                       name  grape            region  \\\n",
       "0  Laurenz V Charming Gruner Veltliner 2013    NaN  Kamptal, Austria   \n",
       "1  Laurenz V Charming Gruner Veltliner 2014    NaN  Kamptal, Austria   \n",
       "2   Laurenz V Singing Gruner Veltliner 2007    NaN           Austria   \n",
       "3   Laurenz V Singing Gruner Veltliner 2010    NaN           Austria   \n",
       "4   Laurenz V Singing Gruner Veltliner 2011    NaN           Austria   \n",
       "\n",
       "      variety  rating                                              notes  \n",
       "0  White Wine    90.0  Aromas of ripe apples and a typical Veltliner ...  \n",
       "1  White Wine    90.0  Aromas of ripe apples and a typical Veltliner ...  \n",
       "2  White Wine    90.0  A very attractive fruit bouquet yields apple, ...  \n",
       "3  White Wine    88.0  A very attractive fruit bouquet yields apple, ...  \n",
       "4  White Wine    88.0  A very attractive fruit bouquet yields apple, ...  "
      ]
     },
     "execution_count": 6,
     "metadata": {},
     "output_type": "execute_result"
    }
   ],
   "source": [
    "import pandas as pd\n",
    "df = pd.read_csv(\"sample_data/wine-ratings-small.csv\", index_col=0) # read the csv file and set the index column to 0\n",
    "df.head() # show the first 5 rows of the dataframe"
   ]
  },
  {
   "attachments": {},
   "cell_type": "markdown",
   "metadata": {},
   "source": [
    "## Manipulate data with Pandas or as a dictionary\n",
    "At this point, you can use Pandas if you know how to use it. Otherwise, you can use the data as a dictionary. You can use the following code to extract the data:\n",
    "\n",
    "```python\n",
    "data = df.to_dict()\n",
    "```"
   ]
  },
  {
   "cell_type": "code",
   "execution_count": 7,
   "metadata": {},
   "outputs": [
    {
     "data": {
      "text/plain": [
       "{'name': 'Laurenz V Charming Gruner Veltliner 2013',\n",
       " 'grape': nan,\n",
       " 'region': 'Kamptal, Austria',\n",
       " 'variety': 'White Wine',\n",
       " 'rating': 90.0,\n",
       " 'notes': 'Aromas of ripe apples and a typical Veltliner spiciness marry to create a fascinating fruit bouquet. On the palate, the wine is soft and juicy, supported by a fine fruit acidity. Very harmonious, allowing for perfectly smooth drinking. Simply charming!'}"
      ]
     },
     "execution_count": 7,
     "metadata": {},
     "output_type": "execute_result"
    }
   ],
   "source": [
    "dict_data = df.to_dict('records')\n",
    "# You'll get several keys, one for each column in the dataframe. You can access the values of a column by using the column name as a key. You'll also\n",
    "# get the index of each row as a key. You can access the values of a row by using the index as a key.\n",
    "\n",
    "dict_data[0] # get the values of the 'name' column\n",
    "# sample output:\n",
    "# {'name': 'Laurenz V Charming Gruner Veltliner 2013',\n",
    "#  'grape': nan,\n",
    "#  'region': 'Kamptal, Austria',\n",
    "#  'variety': 'White Wine',\n",
    "#  'rating': 90.0,\n",
    "#  'notes': 'Aromas of ripe apples and a typical Veltliner spiciness marry to create a fascinating fruit bouquet. On the palate, the wine is soft and juicy, supported by a fine fruit acidity. Very harmonious, allowing for perfectly smooth drinking. Simply charming!'}"
   ]
  },
  {
   "cell_type": "markdown",
   "metadata": {},
   "source": [
    "### <b>Excercise</b>: retrieve data by variety of wines"
   ]
  },
  {
   "cell_type": "code",
   "execution_count": 8,
   "metadata": {},
   "outputs": [
    {
     "data": {
      "text/plain": [
       "[{'name': 'Lava Cap American River Red',\n",
       "  'grape': nan,\n",
       "  'region': 'El Dorado, Sierra Foothills, California',\n",
       "  'variety': 'Red Wine',\n",
       "  'rating': 90.0,\n",
       "  'notes': 'This wine was created as a table wine. We wanted the wine to be enjoyable and distinguishable as an El Dorado AVA wine, but varietal character takes a back seat to the the smooth and flavorful structure. During the blending process, we selected wines with supple tannins, smooth spice, and a decadent body that work together while never dominating with one varietal character. Great fruit, great body, a little toasty oak, and the smooth, rich Lava Cap finish! '},\n",
       " {'name': 'Lava Cap Barbera 2010',\n",
       "  'grape': nan,\n",
       "  'region': 'Sierra Foothills, California',\n",
       "  'variety': 'Red Wine',\n",
       "  'rating': 90.0,\n",
       "  'notes': 'The plump, rich cherry, raspberry and plum fruit is immediately appealing when first poured, feeling soft and rich. The robust fruit coupled with acidity and soft tannin makes this one of the best, most versatile food wines, which can carry everything from vegetable to meat dishes.  '},\n",
       " {'name': 'Lava Cap Cabernet Sauvignon 2013',\n",
       "  'grape': nan,\n",
       "  'region': 'El Dorado, Sierra Foothills, California',\n",
       "  'variety': 'Red Wine',\n",
       "  'rating': 90.0,\n",
       "  'notes': 'Lava Cap’s estate grown Cabernet Sauvignon grapes have long been recognized for producing a wine with lovely structure and vibrant fruit character. The fragrant must of fruit was cold-soaked for three days to enhance color and flavor.'},\n",
       " {'name': 'Lava Cap Cabernet Sauvignon 2016',\n",
       "  'grape': nan,\n",
       "  'region': 'El Dorado, Sierra Foothills, California',\n",
       "  'variety': 'Red Wine',\n",
       "  'rating': 93.0,\n",
       "  'notes': 'Lava Cap’s estate grown grapes have long been recognized for producing a wine with lovely structure and vibrant fruit character. The moderate weather produced a wine that stretches from the leaves to the roots with a tightly balanced, pure fruit. The fragrant must of fruit was cold-soaked for three days to enhance color and flavor. The wine was barrel aged giving a lovely balance between tannins and the layers of flavo'},\n",
       " {'name': 'Lava Cap Petite Sirah 2013',\n",
       "  'grape': nan,\n",
       "  'region': 'El Dorado, Sierra Foothills, California',\n",
       "  'variety': 'Red Wine',\n",
       "  'rating': 90.0,\n",
       "  'notes': \"Lava Cap's 2013 Petite Sirah is a BIG one for the ages. The early growing season, mellow summer, and intense fall allowed near perfect ripening conditions. The 2013 Petite Sirah has notes of elegant wild licorice, blueberries, and complex oak. With a sip, the massive wine slams the palate with a stampede of plum and white pepper flavors  which perfectly transition to blackberry and a long vanilla-kola finish. Will age beautifully into 2025.\"}]"
      ]
     },
     "execution_count": 8,
     "metadata": {},
     "output_type": "execute_result"
    }
   ],
   "source": [
    "red_wines = []\n",
    "\n",
    "for item in dict_data:\n",
    "    if 'Red' in str(item['variety']):\n",
    "        red_wines.append(item)\n",
    "\n",
    "red_wines[:5]"
   ]
  },
  {
   "cell_type": "markdown",
   "metadata": {},
   "source": [
    "#### Serialize data to JSON file"
   ]
  },
  {
   "cell_type": "code",
   "execution_count": 9,
   "metadata": {},
   "outputs": [],
   "source": [
    "import json\n",
    "\n",
    "with open('sample_data/red_wines.json', 'w') as f:\n",
    "    json.dump(red_wines, f)"
   ]
  },
  {
   "cell_type": "markdown",
   "metadata": {},
   "source": [
    "#### Deserialize data from JSON file to dictionaries"
   ]
  },
  {
   "cell_type": "code",
   "execution_count": 10,
   "metadata": {},
   "outputs": [
    {
     "data": {
      "text/plain": [
       "[{'name': 'Lava Cap American River Red',\n",
       "  'grape': nan,\n",
       "  'region': 'El Dorado, Sierra Foothills, California',\n",
       "  'variety': 'Red Wine',\n",
       "  'rating': 90,\n",
       "  'notes': 'This wine was created as a table wine. We wanted the wine to be enjoyable and distinguishable as an El Dorado AVA wine, but varietal character takes a back seat to the the smooth and flavorful structure. During the blending process, we selected wines with supple tannins, smooth spice, and a decadent body that work together while never dominating with one varietal character. Great fruit, great body, a little toasty oak, and the smooth, rich Lava Cap finish! '},\n",
       " {'name': 'Lava Cap Barbera 2010',\n",
       "  'grape': nan,\n",
       "  'region': 'Sierra Foothills, California',\n",
       "  'variety': 'Red Wine',\n",
       "  'rating': 90,\n",
       "  'notes': 'The plump, rich cherry, raspberry and plum fruit is immediately appealing when first poured, feeling soft and rich. The robust fruit coupled with acidity and soft tannin makes this one of the best, most versatile food wines, which can carry everything from vegetable to meat dishes.  '},\n",
       " {'name': 'Lava Cap Cabernet Sauvignon 2013',\n",
       "  'grape': nan,\n",
       "  'region': 'El Dorado, Sierra Foothills, California',\n",
       "  'variety': 'Red Wine',\n",
       "  'rating': 90,\n",
       "  'notes': 'Lava Cap’s estate grown Cabernet Sauvignon grapes have long been recognized for producing a wine with lovely structure and vibrant fruit character. The fragrant must of fruit was cold-soaked for three days to enhance color and flavor.'},\n",
       " {'name': 'Lava Cap Cabernet Sauvignon 2016',\n",
       "  'grape': nan,\n",
       "  'region': 'El Dorado, Sierra Foothills, California',\n",
       "  'variety': 'Red Wine',\n",
       "  'rating': 93,\n",
       "  'notes': 'Lava Cap’s estate grown grapes have long been recognized for producing a wine with lovely structure and vibrant fruit character. The moderate weather produced a wine that stretches from the leaves to the roots with a tightly balanced, pure fruit. The fragrant must of fruit was cold-soaked for three days to enhance color and flavor. The wine was barrel aged giving a lovely balance between tannins and the layers of flavo'},\n",
       " {'name': 'Lava Cap Petite Sirah 2013',\n",
       "  'grape': nan,\n",
       "  'region': 'El Dorado, Sierra Foothills, California',\n",
       "  'variety': 'Red Wine',\n",
       "  'rating': 90,\n",
       "  'notes': \"Lava Cap's 2013 Petite Sirah is a BIG one for the ages. The early growing season, mellow summer, and intense fall allowed near perfect ripening conditions. The 2013 Petite Sirah has notes of elegant wild licorice, blueberries, and complex oak. With a sip, the massive wine slams the palate with a stampede of plum and white pepper flavors  which perfectly transition to blackberry and a long vanilla-kola finish. Will age beautifully into 2025.\"}]"
      ]
     },
     "execution_count": 10,
     "metadata": {},
     "output_type": "execute_result"
    }
   ],
   "source": [
    "records = pd.read_json('sample_data/red_wines.json')\n",
    "dict_records = records.to_dict('records')\n",
    "dict_records[:5]"
   ]
  }
 ],
 "metadata": {
  "kernelspec": {
   "display_name": "Python 3",
   "language": "python",
   "name": "python3"
  },
  "language_info": {
   "codemirror_mode": {
    "name": "ipython",
    "version": 3
   },
   "file_extension": ".py",
   "mimetype": "text/x-python",
   "name": "python",
   "nbconvert_exporter": "python",
   "pygments_lexer": "ipython3",
   "version": "3.11.4"
  },
  "orig_nbformat": 4
 },
 "nbformat": 4,
 "nbformat_minor": 2
}
